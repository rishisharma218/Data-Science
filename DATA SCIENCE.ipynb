{
 "cells": [
  {
   "cell_type": "markdown",
   "id": "bf04d31f-dc69-41a9-8aac-49bb28f9c47d",
   "metadata": {},
   "source": [
    "# Introduction to Data Science"
   ]
  },
  {
   "cell_type": "markdown",
   "id": "26cfeceb-e51b-403d-8de1-e7a6f61e5d38",
   "metadata": {
    "tags": []
   },
   "source": [
    "## Data Science Languages"
   ]
  },
  {
   "cell_type": "markdown",
   "id": "9944d3ae-539f-4653-a8df-ca1889f731d3",
   "metadata": {
    "tags": []
   },
   "source": [
    "* Python\n",
    "* R\n",
    "* Julia"
   ]
  },
  {
   "cell_type": "markdown",
   "id": "a51e88fb-57bc-4a79-8537-0faa51f43ced",
   "metadata": {
    "tags": []
   },
   "source": [
    "## Data Science Libraries"
   ]
  },
  {
   "cell_type": "markdown",
   "id": "9c0bab1f-19d1-4b40-81b3-3b2261e46168",
   "metadata": {
    "tags": []
   },
   "source": [
    "These are various data science libraries \n",
    "\n",
    "* Numpy: Provides powerful array manipulation capabilities\n",
    "* Pandas Offers high-performance data structures like DataFrames for data analysis.\n",
    "* Matplotlib Creates various plots and visualizations for data exploration."
   ]
  },
  {
   "cell_type": "markdown",
   "id": "6d247954-d877-4ca6-8aee-bcefa6ab6fb1",
   "metadata": {},
   "source": [
    "## Data Science Tools\n",
    "\n",
    "Data science leverages a variety of tools to manage, analyze, and visualize data. Here's a table summarizing some commonly used tools:\n",
    "\n",
    "| Tool | Description |\n",
    "|---|---|\n",
    "| Jupyter Notebook | An interactive environment for writing code, visualizing results, and creating documentation for data science projects. |\n",
    "| Git | A version control system for tracking changes in code and data files over time. |\n",
    "| Pandas | A Python library for data manipulation and analysis, offering powerful data structures like DataFrames. |\n",
    "| NumPy | Another Python library providing efficient numerical computing functionalities with multidimensional arrays. |\n",
    "| Matplotlib | A Python library for creating various visualizations like charts and graphs to explore data trends. |\n",
    "| Seaborn | A built-on top of Matplotlib, offering a high-level interface for creating statistical graphics. |\n",
    "| Scikit-learn | A Python library for machine learning, providing algorithms for tasks like classification, regression, and clustering. |\n",
    "| TensorFlow/PyTorch | Deep learning frameworks for building and training complex neural networks. |"
   ]
  },
  {
   "cell_type": "markdown",
   "id": "01e1214a-ad09-4ef2-8ef6-4a844b34d4f4",
   "metadata": {
    "tags": []
   },
   "source": [
    "## Examples of Arithmetic Expressions\n",
    "\n",
    "Arithmetic expressions combine numbers, variables, and mathematical operations to represent calculations. Here are some examples using mathematical notation:\n",
    "\n",
    "* Addition: `2 + 3`\n",
    "* Subtraction: `5 - 1`\n",
    "* Multiplication: `4 * x` (where x is a variable)\n",
    "* Division: `10 / 2`"
   ]
  },
  {
   "cell_type": "code",
   "execution_count": 6,
   "id": "f9b42048-480e-4f65-a948-b14de24082bf",
   "metadata": {
    "tags": []
   },
   "outputs": [
    {
     "name": "stdout",
     "output_type": "stream",
     "text": [
      "The product of 5 and 3 is: 15\n",
      "The sum of 5 and 3 is: 8\n"
     ]
    }
   ],
   "source": [
    "num1 = 5\n",
    "num2 = 3\n",
    "\n",
    "product = num1 * num2\n",
    "sum = num1 + num2\n",
    "\n",
    "print(\"The product of\", num1, \"and\", num2, \"is:\", product)\n",
    "print(\"The sum of\", num1, \"and\", num2, \"is:\", sum)\n"
   ]
  },
  {
   "cell_type": "code",
   "execution_count": 8,
   "id": "b43d8f13-8e03-40a1-ad1a-fc6f62e3700f",
   "metadata": {
    "tags": []
   },
   "outputs": [
    {
     "name": "stdin",
     "output_type": "stream",
     "text": [
      "Enter the number of minutes:  240\n"
     ]
    },
    {
     "name": "stdout",
     "output_type": "stream",
     "text": [
      "240 minutes is equal to 4.00 hours.\n"
     ]
    }
   ],
   "source": [
    "def convert_minutes_to_hours(minutes):\n",
    "  \"\"\"\n",
    "  This function converts minutes to hours, handling decimals for fractional hours.\n",
    "\n",
    "  Args:\n",
    "      minutes: The number of minutes to convert (integer).\n",
    "\n",
    "  Returns:\n",
    "      A float representing the number of hours.\n",
    "  \"\"\"\n",
    "\n",
    "  hours = minutes / 60\n",
    "  return hours\n",
    "\n",
    "minutes = int(input(\"Enter the number of minutes: \"))\n",
    "converted_hours = convert_minutes_to_hours(minutes)\n",
    "\n",
    "print(f\"{minutes} minutes is equal to {converted_hours:.2f} hours.\")"
   ]
  },
  {
   "cell_type": "markdown",
   "id": "c0a9390e-a298-4db0-aaeb-997cf7360250",
   "metadata": {},
   "source": [
    "## Objectives\n",
    "* Understand basic data science concepts like variables, data types, and arithmetic operations.\n",
    "* Get hands-on experience with Python code for performing calculations on data.\n",
    "* Explore how to convert between different data units (e.g., minutes to hours).\n"
   ]
  },
  {
   "cell_type": "markdown",
   "id": "a20d3772-6026-49bc-9dd8-5b28271f5556",
   "metadata": {},
   "source": [
    "This Jupyter Notebook was created by: **[Rishi Sharma]**"
   ]
  },
  {
   "cell_type": "code",
   "execution_count": null,
   "id": "b15ba4b7-4202-4454-87d3-74a514827af3",
   "metadata": {},
   "outputs": [],
   "source": []
  }
 ],
 "metadata": {
  "kernelspec": {
   "display_name": "Python",
   "language": "python",
   "name": "conda-env-python-py"
  },
  "language_info": {
   "codemirror_mode": {
    "name": "ipython",
    "version": 3
   },
   "file_extension": ".py",
   "mimetype": "text/x-python",
   "name": "python",
   "nbconvert_exporter": "python",
   "pygments_lexer": "ipython3",
   "version": "3.7.12"
  }
 },
 "nbformat": 4,
 "nbformat_minor": 5
}
